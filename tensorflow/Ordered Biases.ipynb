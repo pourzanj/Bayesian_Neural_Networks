{
 "cells": [
  {
   "cell_type": "code",
   "execution_count": 1,
   "metadata": {},
   "outputs": [],
   "source": [
    "import tensorflow as tf\n",
    "import numpy as np\n",
    "from tensorflow.examples.tutorials.mnist import input_data"
   ]
  },
  {
   "cell_type": "code",
   "execution_count": null,
   "metadata": {
    "collapsed": true
   },
   "outputs": [],
   "source": [
    "def create_rotation_matrix(angle, n, i_in, j_in):\n",
    "    R = []\n",
    "    for i in range(n):\n",
    "        z = []\n",
    "        for j in range(n):\n",
    "            if i == j:\n",
    "                z.append(1)\n",
    "            else:\n",
    "                z.append(0)\n",
    "        R.append(z)\n",
    "\n",
    "    R[i_in][i_in] = tf.cos(angle)\n",
    "    R[i_in][j_in] = -tf.sin(angle)\n",
    "    R[j_in][i_in] = tf.sin(angle)\n",
    "    R[j_in][j_in] = tf.cos(angle)\n",
    "    return tf.reshape(tf.stack(R),[n,n])\n",
    "\n",
    "def create_givens_matrix(angles, n, p):\n",
    "    G = tf.constant(np.eye(n), dtype = tf.float32)\n",
    "    for j in range(0, n-1):\n",
    "        R = create_rotation_matrix(angles[j], n, 0, j+1)\n",
    "        G = tf.matmul(G, R)\n",
    "    \n",
    "    return G[:,:p]\n",
    "\n",
    "def create_unit_vector(angle):\n",
    "    return tf.stack([tf.sin(angle), tf.cos(angle)])\n",
    "\n",
    "def create_unit_vector_np(angle):\n",
    "    return np.array([np.cos(angle), np.sin(angle)])"
   ]
  },
  {
   "cell_type": "code",
   "execution_count": 2,
   "metadata": {
    "collapsed": true
   },
   "outputs": [],
   "source": [
    "def ordered_transform(y):\n",
    "    G = []\n",
    "    if len(y.shape) == 2:\n",
    "        for i in range(y.shape[0]):\n",
    "            if i == 0:\n",
    "                G.append(y[i,:])\n",
    "            else:\n",
    "                G.append(G[i-1] + tf.exp(y[i,:]))\n",
    "    else:\n",
    "        for i in range(y.shape[0]):\n",
    "            if i == 0:\n",
    "                G.append(y[i])\n",
    "            else:\n",
    "                G.append(G[i-1] + tf.exp(y[i]))\n",
    "    return tf.stack(G)"
   ]
  },
  {
   "cell_type": "code",
   "execution_count": 3,
   "metadata": {},
   "outputs": [],
   "source": [
    "tf.reset_default_graph()\n",
    "initializer = tf.contrib.layers.xavier_initializer()\n",
    "\n",
    "input = tf.placeholder(dtype = tf.float32, shape = [None,784])\n",
    "targets = tf.placeholder(dtype = tf.float32, shape = [None, 10])\n",
    "\n",
    "W1_unconstrained = tf.Variable(initializer([784,20]))\n",
    "b1_unconstrained = tf.Variable(initializer([20]))\n",
    "b1 = ordered_transform(b1_unconstrained)\n",
    "W2_unconstrained = tf.Variable(initializer([20,20]))\n",
    "b2_unconstrained = tf.Variable(initializer([20]))\n",
    "b2 = ordered_transform(b2_unconstrained)\n",
    "W3_unconstrained = tf.Variable(initializer([20,10]))\n",
    "b3_unconstrained = tf.Variable(initializer([10]))\n",
    "b3 = ordered_transform(b3_unconstrained)\n",
    "\n",
    "h1 = tf.nn.relu(tf.matmul(input, W1_unconstrained) + b1)\n",
    "h2 = tf.nn.relu(tf.matmul(h1, W2_unconstrained) + b2)\n",
    "output = tf.matmul(h2, W3_unconstrained) + b3\n",
    "\n",
    "loss = tf.reduce_mean(tf.nn.softmax_cross_entropy_with_logits(logits=output, labels=targets))\n",
    "train_step = tf.train.AdamOptimizer(learning_rate = 0.01).minimize(loss)\n",
    "accuracy = tf.reduce_mean(tf.cast(tf.equal(tf.argmax(output, 1), tf.argmax(targets, 1)), tf.float32))"
   ]
  },
  {
   "cell_type": "code",
   "execution_count": 4,
   "metadata": {},
   "outputs": [
    {
     "name": "stdout",
     "output_type": "stream",
     "text": [
      "Extracting ../datasets/MNIST_data/train-images-idx3-ubyte.gz\n",
      "Extracting ../datasets/MNIST_data/train-labels-idx1-ubyte.gz\n",
      "Extracting ../datasets/MNIST_data/t10k-images-idx3-ubyte.gz\n",
      "Extracting ../datasets/MNIST_data/t10k-labels-idx1-ubyte.gz\n",
      "Iter 0, Loss 47.845379, Accuracy 11.914062%\n",
      "Iter 10, Loss 5.444014, Accuracy 25.000000%\n",
      "Iter 20, Loss 2.661141, Accuracy 43.750000%\n",
      "Iter 30, Loss 1.629519, Accuracy 52.734375%\n",
      "Iter 40, Loss 1.067997, Accuracy 69.140625%\n",
      "Iter 50, Loss 0.824954, Accuracy 78.515625%\n",
      "Iter 60, Loss 0.746834, Accuracy 77.734375%\n",
      "Iter 70, Loss 0.587426, Accuracy 84.375000%\n",
      "Iter 80, Loss 0.567643, Accuracy 80.664062%\n",
      "Iter 90, Loss 0.507001, Accuracy 84.960938%\n"
     ]
    }
   ],
   "source": [
    "tf.set_random_seed(100)\n",
    "mnist = input_data.read_data_sets(\"../datasets/MNIST_data/\", one_hot=True, seed=50)\n",
    "sess = tf.Session()\n",
    "sess.run(tf.global_variables_initializer())\n",
    "for i in range(100):\n",
    "    batch_xs, batch_ys = mnist.train.next_batch(512)\n",
    "    _, l,a = sess.run([train_step,loss,accuracy], feed_dict = {input : batch_xs, targets: batch_ys})\n",
    "    if i % 10 == 0:\n",
    "        print(\"Iter %d, Loss %f, Accuracy %f%%\" % (i, l, a*100))"
   ]
  },
  {
   "cell_type": "code",
   "execution_count": 5,
   "metadata": {},
   "outputs": [
    {
     "data": {
      "text/plain": [
       "0.86860001"
      ]
     },
     "execution_count": 5,
     "metadata": {},
     "output_type": "execute_result"
    }
   ],
   "source": [
    "print(\"Test Accuracy %f\" % sess.run(accuracy, feed_dict = {input: mnist.test.images, targets: mnist.test.labels}))"
   ]
  },
  {
   "cell_type": "code",
   "execution_count": null,
   "metadata": {
    "collapsed": true
   },
   "outputs": [],
   "source": []
  }
 ],
 "metadata": {
  "kernelspec": {
   "display_name": "Python 3",
   "language": "python",
   "name": "python3"
  },
  "language_info": {
   "codemirror_mode": {
    "name": "ipython",
    "version": 3
   },
   "file_extension": ".py",
   "mimetype": "text/x-python",
   "name": "python",
   "nbconvert_exporter": "python",
   "pygments_lexer": "ipython3",
   "version": "3.6.1"
  }
 },
 "nbformat": 4,
 "nbformat_minor": 2
}
